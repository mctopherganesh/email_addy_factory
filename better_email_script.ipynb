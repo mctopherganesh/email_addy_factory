{
 "cells": [
  {
   "cell_type": "code",
   "execution_count": 1,
   "metadata": {},
   "outputs": [
    {
     "name": "stdout",
     "output_type": "stream",
     "text": [
      "Tue Jan 14 15:17:23 CST 2020\r\n"
     ]
    }
   ],
   "source": [
    "!date"
   ]
  },
  {
   "cell_type": "code",
   "execution_count": 2,
   "metadata": {},
   "outputs": [],
   "source": [
    "import csv"
   ]
  },
  {
   "cell_type": "code",
   "execution_count": 3,
   "metadata": {},
   "outputs": [],
   "source": [
    "def makes_email_csv(name,addy,number):\n",
    "    \"\"\"\n",
    "    args are name, additional alias, and the number of emails you want\n",
    "    updated to make emails with new pattern 'Xd' and 'Xm', where X is\n",
    "    is the number. d and m stand for desktop and mobile\n",
    "    \"\"\"\n",
    "    \n",
    "    with open(name + addy + '.csv', 'w') as csv_file:\n",
    "        email_list_writer = csv.writer(csv_file, delimiter=',', quotechar='\"', quoting=csv.QUOTE_ALL)\n",
    "        email_list_writer.writerow(['emails'])\n",
    "        \n",
    "        for i in range(number):\n",
    "            email_list_writer.writerow([name + 'someco' + '+' + addy + str(int(i+1)) + 'd' + '@someco.com'])\n",
    "            email_list_writer.writerow([name + 'someco' + '+' + addy + str(int(i+1)) + 'm' + '@someco.com'])\n",
    "        \n",
    "\n",
    "def make_email_test_suite(addy, num_of_emails):\n",
    "    \"\"\"does three runs of the makes_email_csv function specific to my team\"\"\"\n",
    "    makes_email_csv('joe', addy, num_of_emails)\n",
    "    makes_email_csv('moe', addy, num_of_emails)\n",
    "    makes_email_csv('curly', addy, num_of_emails)"
   ]
  },
  {
   "cell_type": "code",
   "execution_count": 4,
   "metadata": {},
   "outputs": [],
   "source": [
    "def makes_email_csv(name,addy,number):\n",
    "    \"\"\"\n",
    "    args are name, additional alias, and the number of emails you want\n",
    "    updated to make emails with new pattern 'Xd' and 'Xm', where X is\n",
    "    is the number. d and m stand for desktop and mobile\n",
    "    \"\"\"\n",
    "    \n",
    "    with open(name + addy + '.csv', 'w') as csv_file:\n",
    "        email_list_writer = csv.writer(csv_file, delimiter=',', quotechar='\"', quoting=csv.QUOTE_ALL)\n",
    "        email_list_writer.writerow(['emails'])\n",
    "        \n",
    "        for i in range(number):\n",
    "            email_list_writer.writerow([name + 'mhcoaching' + '+' + addy + str(int(i+1)) + 'd' + '@gmail.com'])\n",
    "            email_list_writer.writerow([name + 'mhcoaching' + '+' + addy + str(int(i+1)) + 'm' + '@gmail.com'])\n",
    "        \n",
    "\n",
    "def make_email_test_suite(addy, num_of_emails,retest=False):\n",
    "    \"\"\"does three runs of the makes_email_csv function specific to my team\"\"\"\n",
    "    if retest==True:\n",
    "        retest_number = input('retest number? >>')\n",
    "        retest_number = int(retest_number)\n",
    "        makes_email_csv('joe', (addy+(('0'*retest_number))), num_of_emails)\n",
    "        makes_email_csv('moe', addy, num_of_emails)\n",
    "        makes_email_csv('curly', addy, num_of_emails)\n",
    "    else:\n",
    "\n",
    "        makes_email_csv('joe', addy, num_of_emails)\n",
    "        makes_email_csv('moe', addy, num_of_emails)\n",
    "        makes_email_csv('curly', addy, num_of_emails)\n",
    "\n"
   ]
  }
 ],
 "metadata": {
  "kernelspec": {
   "display_name": "Python 3",
   "language": "python",
   "name": "python3"
  },
  "language_info": {
   "codemirror_mode": {
    "name": "ipython",
    "version": 3
   },
   "file_extension": ".py",
   "mimetype": "text/x-python",
   "name": "python",
   "nbconvert_exporter": "python",
   "pygments_lexer": "ipython3",
   "version": "3.7.3"
  }
 },
 "nbformat": 4,
 "nbformat_minor": 2
}
